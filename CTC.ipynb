{
 "cells": [
  {
   "cell_type": "code",
   "execution_count": 1,
   "metadata": {
    "collapsed": false
   },
   "outputs": [
    {
     "name": "stdout",
     "output_type": "stream",
     "text": [
      "in the name of ALLAH\n"
     ]
    }
   ],
   "source": [
    "print(\"in the name of ALLAH\")"
   ]
  },
  {
   "cell_type": "code",
   "execution_count": 2,
   "metadata": {
    "collapsed": true
   },
   "outputs": [],
   "source": [
    "from sage.sat.boolean_polynomials import solve as solve_sat\n",
    "from sage.rings.polynomial.multi_polynomial_sequence import PolynomialSequence\n",
    "from CTC2rev0 import CTC"
   ]
  },
  {
   "cell_type": "code",
   "execution_count": 7,
   "metadata": {
    "collapsed": false
   },
   "outputs": [
    {
     "name": "stdout",
     "output_type": "stream",
     "text": [
      "CPU times: user 148 ms, sys: 8 ms, total: 156 ms\n",
      "Wall time: 142 ms\n",
      "CTC(B = 3, Nr = 4)\n",
      "key = 010101000\n",
      "Number of solutions = 1\n"
     ]
    }
   ],
   "source": [
    "B = 3\n",
    "Nr = 4\n",
    "Hk = B * 3\n",
    "number_of_insts = 1\n",
    "ctc = CTC(B, Nr, Hk)\n",
    "key = ctc.random_key()\n",
    "plains = [ctc.random_plaintext() for _ in range(number_of_insts)]\n",
    "ciphers = [ctc(key, p) for p in plains]\n",
    "\n",
    "ps = ctc.polynomials(plains, ciphers)\n",
    "vrs = ctc.get_variables()\n",
    "R = BooleanPolynomialRing(len(vrs), vrs)\n",
    "ps = PolynomialSequence(map(R, ps))\n",
    "%time sls = solve_sat(ps, n = infinity, s_verbosity = 4)\n",
    "print(ctc)\n",
    "print(\"key = %s\" % ctc.display(key, \"bin\", length = ctc.Hk))\n",
    "print(\"Number of solutions = %d\" % len(sls))"
   ]
  },
  {
   "cell_type": "code",
   "execution_count": 10,
   "metadata": {
    "collapsed": false
   },
   "outputs": [
    {
     "name": "stdout",
     "output_type": "stream",
     "text": [
      "CPU times: user 348 ms, sys: 0 ns, total: 348 ms\n",
      "Wall time: 349 ms\n",
      "CTC(B = 3, Nr = 4)\n",
      "key = 101011110\n",
      "Number of solutions = 1\n"
     ]
    }
   ],
   "source": [
    "key, ps = ctc.polynomials(number_of_instances = 3)\n",
    "vrs = ctc.get_variables()\n",
    "R = BooleanPolynomialRing(len(vrs), vrs)\n",
    "ps = PolynomialSequence(map(R, ps))\n",
    "%time sls = solve_sat(ps, n = infinity, s_verbosity = 3)\n",
    "print(ctc)\n",
    "print(\"key = %s\" % ctc.display(key, \"bin\", length = ctc.Hk))\n",
    "print(\"Number of solutions = %d\" % len(sls))"
   ]
  },
  {
   "cell_type": "code",
   "execution_count": null,
   "metadata": {
    "collapsed": true
   },
   "outputs": [],
   "source": []
  }
 ],
 "metadata": {
  "kernelspec": {
   "display_name": "SageMath 7.2",
   "language": "",
   "name": "sagemath"
  },
  "language_info": {
   "codemirror_mode": {
    "name": "ipython",
    "version": 2
   },
   "file_extension": ".py",
   "mimetype": "text/x-python",
   "name": "python",
   "nbconvert_exporter": "python",
   "pygments_lexer": "ipython2",
   "version": "2.7.10"
  }
 },
 "nbformat": 4,
 "nbformat_minor": 2
}
